{
 "cells": [
  {
   "cell_type": "markdown",
   "id": "b3a706cc",
   "metadata": {},
   "source": [
    "### Given a string s consisting of words and spaces, return the length of the last word in the string.A word is a maximal substringconsisting of non-space characters only."
   ]
  },
  {
   "cell_type": "code",
   "execution_count": 31,
   "id": "4bdacd83",
   "metadata": {},
   "outputs": [
    {
     "data": {
      "text/plain": [
       "5"
      ]
     },
     "execution_count": 31,
     "metadata": {},
     "output_type": "execute_result"
    }
   ],
   "source": [
    "str1='Hello India'\n",
    "def len_lastword(str1):\n",
    "    \n",
    "    a=str1.split(\" \")\n",
    "    last_word=a[-1]\n",
    "    return len(last_word)\n",
    "len_lastword(str1)\n",
    "#print(len_lastword)\n",
    "#str1='Hello India'\n",
    "#print(a)\n",
    "#res=len_lastword(str1)\n",
    "#print(res)"
   ]
  },
  {
   "cell_type": "markdown",
   "id": "c2d36532",
   "metadata": {},
   "source": [
    "### Given an array of integers nums and an integer target, return indices of the two numbers such that they add up to target.You may assume that each input would have exactly one solution, and you may not use the same element twice.You can return the answer in any order.\n",
    "\n"
   ]
  },
  {
   "cell_type": "code",
   "execution_count": 42,
   "id": "7bf88f63",
   "metadata": {},
   "outputs": [
    {
     "data": {
      "text/plain": [
       "[2, 3]"
      ]
     },
     "execution_count": 42,
     "metadata": {},
     "output_type": "execute_result"
    }
   ],
   "source": [
    "nums=[2,7,11,15]\n",
    "target=26\n",
    "def twoSum(nums,target):\n",
    "    seen={}\n",
    "    for i,v in enumerate (nums):\n",
    "        #print(i,v)\n",
    "        #print('####')\n",
    "        \n",
    "        remaining= target - nums[i]\n",
    "        #print(remaining)\n",
    "        \n",
    "        if remaining in seen:\n",
    "            return [seen[remaining],i]\n",
    "        else:\n",
    "            seen[v]=i\n",
    "            \n",
    "twoSum(nums,target)"
   ]
  },
  {
   "cell_type": "markdown",
   "id": "c09d796e",
   "metadata": {},
   "source": [
    "### Roman to Integer\n"
   ]
  },
  {
   "cell_type": "code",
   "execution_count": 90,
   "id": "4f6934a1",
   "metadata": {},
   "outputs": [
    {
     "name": "stdout",
     "output_type": "stream",
     "text": [
      "0 1 2 3 4 "
     ]
    },
    {
     "data": {
      "text/plain": [
       "58"
      ]
     },
     "execution_count": 90,
     "metadata": {},
     "output_type": "execute_result"
    }
   ],
   "source": [
    "s='LVIII'\n",
    "def romanToInt(s):\n",
    "    \n",
    "    \n",
    "    roman_no = { \"I\": 1, \"V\": 5, \"X\": 10, \"L\": 50, \"C\": 100, \"D\": 500, \"M\": 1000}\n",
    "\n",
    "    res = 0\n",
    "\n",
    "    for i in range(len(s)):\n",
    "        print(i,end=' ')\n",
    "        \n",
    "        if i + 1 < len(s) and roman_no[s[i]] < roman_no[s[i + 1]]:\n",
    "            \n",
    "\n",
    "            res -= roman_no[s[i]]\n",
    "        else:\n",
    "            \n",
    "            res += roman_no[s[i]]\n",
    "    return res\n",
    "\n",
    "romanToInt(s)"
   ]
  },
  {
   "cell_type": "code",
   "execution_count": null,
   "id": "d278780a",
   "metadata": {},
   "outputs": [],
   "source": []
  }
 ],
 "metadata": {
  "kernelspec": {
   "display_name": "Python 3 (ipykernel)",
   "language": "python",
   "name": "python3"
  },
  "language_info": {
   "codemirror_mode": {
    "name": "ipython",
    "version": 3
   },
   "file_extension": ".py",
   "mimetype": "text/x-python",
   "name": "python",
   "nbconvert_exporter": "python",
   "pygments_lexer": "ipython3",
   "version": "3.9.12"
  }
 },
 "nbformat": 4,
 "nbformat_minor": 5
}
